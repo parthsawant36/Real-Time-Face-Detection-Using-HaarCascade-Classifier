{
 "cells": [
  {
   "cell_type": "code",
   "execution_count": 1,
   "id": "e8a8584e-0c9a-4323-96a0-56c3d3ca7c86",
   "metadata": {},
   "outputs": [],
   "source": [
    "import cv2 as cv\n",
    "import numpy as np"
   ]
  },
  {
   "cell_type": "code",
   "execution_count": 3,
   "id": "1111c464-89bb-4ca8-ae55-b55f7c487178",
   "metadata": {},
   "outputs": [],
   "source": [
    "img = cv.imread('./Project_FaceDetection_with_opencv/faces.jpg')"
   ]
  },
  {
   "cell_type": "code",
   "execution_count": 4,
   "id": "398b2981-bb17-43cc-99bf-07a638428905",
   "metadata": {},
   "outputs": [],
   "source": [
    "cv.imshow(\"Faces\" , img)\n",
    "cv.waitKey(10000)\n",
    "cv.destroyAllWindows()"
   ]
  },
  {
   "cell_type": "code",
   "execution_count": 6,
   "id": "5af93268-6168-4028-bbfd-057ffc25f28b",
   "metadata": {},
   "outputs": [],
   "source": [
    "face_cascade = cv.CascadeClassifier('./model/haarcascade_frontalface_default.xml')"
   ]
  },
  {
   "cell_type": "code",
   "execution_count": 7,
   "id": "4dee095e-eae1-4fc5-8310-9b1ad63386b7",
   "metadata": {},
   "outputs": [],
   "source": [
    "\n",
    "def face_detection(img) :\n",
    "    image = img.copy()\n",
    "    #using cascade classifier\n",
    "    #convert to grayscale\n",
    "    gray = cv.cvtColor(img,cv.COLOR_BGR2GRAY)\n",
    "    #USING GRAYSCALE IMGAE IN CLASSIFIER\n",
    "    box , detections = face_cascade.detectMultiScale2(gray,minNeighbors=8)\n",
    "    for x,y,w,h in box :\n",
    "        cv.rectangle(image , (x,y) , (x+w,y+h) , (0,255,0) ,2)\n",
    "    return image\n"
   ]
  },
  {
   "cell_type": "code",
   "execution_count": 8,
   "id": "c9964fe6-243e-4ee2-bde3-2767436f8afe",
   "metadata": {},
   "outputs": [],
   "source": [
    "img_detect = face_detection(img)\n",
    "\n",
    "cv.imshow(\"face_detector\" , img_detect)\n",
    "cv.waitKey(10000)\n",
    "cv.destroyAllWindows()"
   ]
  },
  {
   "cell_type": "code",
   "execution_count": 9,
   "id": "e31c6c3a-880c-4c3d-910c-6011e6a92f8e",
   "metadata": {},
   "outputs": [],
   "source": [
    "#REAL TIME FACE DETECTION"
   ]
  },
  {
   "cell_type": "code",
   "execution_count": 10,
   "id": "79d1322c-ab23-4179-831b-d755e1b2875f",
   "metadata": {},
   "outputs": [],
   "source": [
    "import time\n",
    "cap = cv.VideoCapture(0)\n",
    "\n",
    "while True:\n",
    "    start_time = time.time()\n",
    "    ret, frame = cap.read()\n",
    "\n",
    "    if not ret:\n",
    "        break\n",
    "\n",
    "\n",
    "    if cv.waitKey(33) == ord('q'):\n",
    "        break\n",
    "    \n",
    "    time_taken = time.time() - start_time\n",
    "    fps = 1 / time_taken\n",
    "\n",
    "   \n",
    "    cv.putText(frame, \"FPS = {:.0f}\".format(fps), (30, 40),\n",
    "               cv.FONT_HERSHEY_SIMPLEX, 2, (255,255, 255), 6)\n",
    "    f_detect = face_detection(frame)\n",
    "    cv.imshow(\"Real Time Face Detection\", f_detect)\n",
    "\n",
    "    \n",
    "    \n",
    "\n",
    "cap.release()\n",
    "cv.destroyAllWindows()\n"
   ]
  },
  {
   "cell_type": "code",
   "execution_count": null,
   "id": "d1efa54a-17c3-4635-8157-7f7a7b02a768",
   "metadata": {},
   "outputs": [],
   "source": []
  }
 ],
 "metadata": {
  "kernelspec": {
   "display_name": "Python 3 (ipykernel)",
   "language": "python",
   "name": "python3"
  },
  "language_info": {
   "codemirror_mode": {
    "name": "ipython",
    "version": 3
   },
   "file_extension": ".py",
   "mimetype": "text/x-python",
   "name": "python",
   "nbconvert_exporter": "python",
   "pygments_lexer": "ipython3",
   "version": "3.12.4"
  }
 },
 "nbformat": 4,
 "nbformat_minor": 5
}
